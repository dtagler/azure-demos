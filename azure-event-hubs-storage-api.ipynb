{
 "cells": [
  {
   "cell_type": "markdown",
   "id": "4eedf240-a774-4826-a263-6657c49daca9",
   "metadata": {
    "tags": []
   },
   "source": [
    "# Azure Storage and Event Hubs "
   ]
  },
  {
   "cell_type": "code",
   "execution_count": null,
   "id": "e187f59c-c3d2-4dd2-ac4d-0c17eab4c694",
   "metadata": {
    "tags": []
   },
   "outputs": [],
   "source": [
    "import pandas as pd\n",
    "import time\n",
    "import json\n",
    "import uuid"
   ]
  },
  {
   "cell_type": "markdown",
   "id": "a2802af2-ff66-4f0f-990f-66ea3ec48950",
   "metadata": {},
   "source": [
    "## Azure Authentication"
   ]
  },
  {
   "cell_type": "code",
   "execution_count": null,
   "id": "53092ef5-67fb-46fa-a56f-85c7ac3c673e",
   "metadata": {
    "tags": []
   },
   "outputs": [],
   "source": [
    "# install azure cli tools: https://learn.microsoft.com/en-us/cli/azure/install-azure-cli\n",
    "# install python packages: pip install azure-cli azure-identity azure-storage-blob azure-eventhub"
   ]
  },
  {
   "cell_type": "code",
   "execution_count": null,
   "id": "80dd4aad-87d1-46ee-aff7-97f901a80b83",
   "metadata": {
    "tags": []
   },
   "outputs": [],
   "source": [
    "# service principal: https://learn.microsoft.com/en-us/azure/developer/python/sdk/authentication-local-development-service-principal\n",
    "# import os\n",
    "# os.environ[\"AZURE_CLIENT_ID\"] = \"YOUR_CLIENT_ID\"\n",
    "# os.environ[\"AZURE_TENANT_ID\"] = \"YOUR_TENANT_ID\"\n",
    "# os.environ[\"AZURE_CLIENT_SECRET\"] = \"YOUR_CLIENT_SECRET\""
   ]
  },
  {
   "cell_type": "code",
   "execution_count": null,
   "id": "4862a112-caf8-496b-8ab5-d63b6447bf62",
   "metadata": {
    "tags": []
   },
   "outputs": [],
   "source": [
    "# alternative to service principal: interactive web login via cli\n",
    "!az login"
   ]
  },
  {
   "cell_type": "code",
   "execution_count": null,
   "id": "caa31a3d-c638-48b5-bf31-3f93bc54c013",
   "metadata": {
    "tags": []
   },
   "outputs": [],
   "source": [
    "# set subscription\n",
    "# !az account show/list/set\n",
    "from azure.cli.core import get_default_cli\n",
    "get_default_cli().invoke([\"account\", \"show\"])"
   ]
  },
  {
   "cell_type": "code",
   "execution_count": null,
   "id": "ffbd394e-22bd-4961-a129-97515a28a3cf",
   "metadata": {
    "tags": []
   },
   "outputs": [],
   "source": [
    "# azure credential object \n",
    "from azure.identity import DefaultAzureCredential\n",
    "credential = DefaultAzureCredential()"
   ]
  },
  {
   "cell_type": "markdown",
   "id": "7dd801cd-dd6e-443b-bf12-f3ad5b1a72b6",
   "metadata": {
    "tags": []
   },
   "source": [
    "## Pull Data from Azure Storage "
   ]
  },
  {
   "cell_type": "code",
   "execution_count": null,
   "id": "df32486b-02b1-4446-8eb0-bae75b9ae258",
   "metadata": {
    "tags": []
   },
   "outputs": [],
   "source": [
    "# note: in azure portal, add 'storage blob contributor' role\n",
    "STORAGE_ACCOUNT = \"XXXXXXXXXXXXXX\"\n",
    "CONTAINER_NAME = \"XXXXXXXXXXXXXX\"\n",
    "FILE_NAME = \"XXXXXXXX-XXXX-XXXX-XXXX-XXXXXXXXXXXX.csv\"\n",
    "storage_url = f\"https://{STORAGE_ACCOUNT}.dfs.core.windows.net/\""
   ]
  },
  {
   "cell_type": "code",
   "execution_count": null,
   "id": "991add86-b31d-4777-b0e3-317f5f6952fe",
   "metadata": {
    "tags": []
   },
   "outputs": [],
   "source": [
    "# pull blob\n",
    "from azure.storage.blob import BlobServiceClient\n",
    "blob_service_client = BlobServiceClient(account_url=storage_url, credential=credential)\n",
    "blob_client = blob_service_client.get_blob_client(container=CONTAINER_NAME, blob=FILE_NAME)"
   ]
  },
  {
   "cell_type": "code",
   "execution_count": null,
   "id": "fde31d9f-5fd0-428b-81a2-f7b98c3bbed3",
   "metadata": {
    "tags": []
   },
   "outputs": [],
   "source": [
    "# save file locally\n",
    "with open(\"temp.csv\", \"wb\") as my_blob:\n",
    "    blob_data = blob_client.download_blob()\n",
    "    blob_data.readinto(my_blob)"
   ]
  },
  {
   "cell_type": "code",
   "execution_count": null,
   "id": "00ab2704-8173-4c16-aede-2efd11cf9000",
   "metadata": {
    "tags": []
   },
   "outputs": [],
   "source": [
    "# convert to dataframe\n",
    "df = pd.read_csv(\"temp.csv\")\n",
    "df"
   ]
  },
  {
   "cell_type": "markdown",
   "id": "cb18713b-f461-48c9-aefe-79fa13e07cc2",
   "metadata": {
    "tags": []
   },
   "source": [
    "## Azure Event Hub Producer"
   ]
  },
  {
   "cell_type": "code",
   "execution_count": null,
   "id": "787e9828-ef84-4d7b-880d-379966acc0c6",
   "metadata": {
    "tags": []
   },
   "outputs": [],
   "source": [
    "# get connection string via azure portal -> eventhubs namespace -> shared access policies -> add\n",
    "# note: use asyncio patterns for production: https://pypi.org/project/azure-eventhub\n",
    "# samples: https://learn.microsoft.com/en-us/samples/azure/azure-sdk-for-python/eventhub-samples/\n",
    "CONNECTION_STRING = \"XXXXXXXXXXXXXXXXXXXXXXXXXXXXXXXXXXXXXXXXXXXXXXXXXXXXXXXXXXXXXXXXXXXXXXXXXXXXXXXXXXXXXXXXXXXXXXXXXXXXXXX\"\n",
    "EVENTHUB_NAME = \"XXXXXXXXXXX\""
   ]
  },
  {
   "cell_type": "code",
   "execution_count": null,
   "id": "b98a1f3f-e748-4e24-87c0-413a2a67e835",
   "metadata": {
    "tags": []
   },
   "outputs": [],
   "source": [
    "from azure.eventhub import EventHubProducerClient, EventData\n",
    "\n",
    "# produce events and send to event hub\n",
    "with EventHubProducerClient.from_connection_string(CONNECTION_STRING, eventhub_name=EVENTHUB_NAME) as producer:\n",
    "    \n",
    "    # Create a batch of events to send\n",
    "    event_data_batch = producer.create_batch()\n",
    "    \n",
    "    # add messages to batch\n",
    "    # note: batches are limited to 256k (basic) to 1MB (standard), will throw error\n",
    "    for each_row in df.to_dict(orient=\"records\"):\n",
    "        each_json_message = json.dumps(each_row)\n",
    "        event_data_batch.add(EventData(json.dumps(each_json_message)))\n",
    "        \n",
    "    # send\n",
    "    try:\n",
    "        producer.send_batch(event_data_batch)\n",
    "        print(f\"sent sucessfully {time.ctime()}\")\n",
    "    except Exception as e:\n",
    "        print(f\"failed {time.ctime()}, exception: {e}\")"
   ]
  },
  {
   "cell_type": "markdown",
   "id": "bbe13ef2-7325-48cf-a59d-147b9c568bc6",
   "metadata": {},
   "source": [
    "## Azure Event Hub Consumer"
   ]
  },
  {
   "cell_type": "code",
   "execution_count": null,
   "id": "cbb35ae5-fef3-4877-a275-85489609c08e",
   "metadata": {
    "tags": []
   },
   "outputs": [],
   "source": [
    "# get connection string via azure portal -> eventhubs namespace -> shared access policies -> add\n",
    "CONNECTION_STRING = \"XXXXXXXXXXXXXXXXXXXXXXXXXXXXXXXXXXXXXXXXXXXXXXXXXXXXXXXXXXXXXXXXXXXXXXXXXXXXXXXXXXXXXXXXXXXXXXXXX\"\n",
    "EVENTHUB_NAME = \"XXXXXXXXXXXX\""
   ]
  },
  {
   "cell_type": "code",
   "execution_count": null,
   "id": "e1d72aaf-222c-4fa5-917b-1bdf9d037a98",
   "metadata": {
    "tags": []
   },
   "outputs": [],
   "source": [
    "from azure.eventhub import EventHubConsumerClient\n",
    "\n",
    "# callback function to process events\n",
    "def on_event_function(partition_context, events):\n",
    "    \n",
    "    # save events to jsonl file\n",
    "    with open(\"data.jsonl\", \"a\") as f:\n",
    "        for each_event in events:\n",
    "            each_event_body_json = each_event.body_as_json()\n",
    "            f.write(f\"{each_event_body_json}\\n\")\n",
    "            \n",
    "    # Update the checkpoint\n",
    "    partition_context.update_checkpoint()\n",
    "\n",
    "# receive events \n",
    "try:\n",
    "    with EventHubConsumerClient.from_connection_string(CONNECTION_STRING, \"$Default\", eventhub_name=EVENTHUB_NAME) as consumer:\n",
    "        consumer.receive_batch(\n",
    "            on_event_batch=on_event_function, \n",
    "            starting_position=\"-1\"\n",
    "        )\n",
    "except KeyboardInterrupt:\n",
    "    print('Stopped receiving')"
   ]
  },
  {
   "cell_type": "markdown",
   "id": "0548b80e-bf96-4824-843b-4f318e2b8c92",
   "metadata": {},
   "source": [
    "## Save Data to Azure Storage "
   ]
  },
  {
   "cell_type": "code",
   "execution_count": null,
   "id": "f10ccced-0337-4bbe-b881-f8c557c4d18a",
   "metadata": {
    "tags": []
   },
   "outputs": [],
   "source": [
    "# read jsonl file\n",
    "with open(\"data.jsonl\", \"r\") as f:\n",
    "    # Read each line and parse it as a JSON object\n",
    "    data = [json.loads(line) for line in f]\n",
    "    raw_df = pd.DataFrame(data)"
   ]
  },
  {
   "cell_type": "code",
   "execution_count": null,
   "id": "24931453-b3f3-43b5-a4ba-14c4e748a4af",
   "metadata": {
    "tags": []
   },
   "outputs": [],
   "source": [
    "# transformations \n",
    "temp_df = raw_df.drop_duplicates().sort_values(by=\"timestamp\")\n",
    "temp_df[\"column_6\"] =  temp_df[\"column_3\"] + temp_df[\"column_4\"]\n",
    "filtered_df = temp_df[temp_df[\"column_6\"] > 1]\n",
    "filtered_df"
   ]
  },
  {
   "cell_type": "code",
   "execution_count": null,
   "id": "f8954e38-bc7e-49e8-b9d5-2b385d4efbc8",
   "metadata": {
    "tags": []
   },
   "outputs": [],
   "source": [
    "# convert to csv\n",
    "output_csv = filtered_df.to_csv(index=False)"
   ]
  },
  {
   "cell_type": "code",
   "execution_count": null,
   "id": "c402dd7d-7080-406a-897b-6cd268be17c0",
   "metadata": {
    "tags": []
   },
   "outputs": [],
   "source": [
    "# note: in azure portal, add 'storage blob contributor' role\n",
    "STORAGE_ACCOUNT = \"XXXXXXXXXXXXXXXX\"\n",
    "CONTAINER_NAME = \"XXXXXXXXXXXXXXX\"\n",
    "export_file_name = f\"{uuid.uuid1()}.csv\"\n",
    "container_url = f\"https://{STORAGE_ACCOUNT}.blob.core.windows.net/\""
   ]
  },
  {
   "cell_type": "code",
   "execution_count": null,
   "id": "fe4f027e-f478-40d3-9100-71cf2fb49616",
   "metadata": {},
   "outputs": [],
   "source": [
    "# upload blob\n",
    "from azure.storage.blob import ContainerClient\n",
    "container_client = ContainerClient(account_url=container_url, container_name=CONTAINER_NAME, credential=credential)\n",
    "blob_client = container_client.get_blob_client(export_file_name)\n",
    "blob_client.upload_blob(data=output_csv)"
   ]
  },
  {
   "cell_type": "code",
   "execution_count": null,
   "id": "f56e7fbc-72e0-4bd0-b093-636ef43ea6dc",
   "metadata": {},
   "outputs": [],
   "source": []
  }
 ],
 "metadata": {
  "kernelspec": {
   "display_name": "Python 3 (ipykernel)",
   "language": "python",
   "name": "python3"
  },
  "language_info": {
   "codemirror_mode": {
    "name": "ipython",
    "version": 3
   },
   "file_extension": ".py",
   "mimetype": "text/x-python",
   "name": "python",
   "nbconvert_exporter": "python",
   "pygments_lexer": "ipython3",
   "version": "3.11.0"
  }
 },
 "nbformat": 4,
 "nbformat_minor": 5
}
