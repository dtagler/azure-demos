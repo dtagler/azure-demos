{
 "cells": [
  {
   "cell_type": "markdown",
   "id": "025ef61f-e456-431e-a920-5f55865d4c0f",
   "metadata": {},
   "source": [
    "# Azure Service Bus (Queues and Topics/Pub-Sub)"
   ]
  },
  {
   "cell_type": "code",
   "execution_count": null,
   "id": "c5960a5d-704e-498d-abb8-158b18b6eac8",
   "metadata": {
    "tags": []
   },
   "outputs": [],
   "source": [
    "# The main difference between Azure Event Hubs and Service Bus is that Event Hubs is designed for high-flow analytics types of events, \n",
    "# such as telemetry data or clickstream analysis. Service Bus is more suitable for scenarios that require reliable messaging, \n",
    "# such as business workflows or integration with third-party systems.\n",
    "\n",
    "# A service bus queue is a unidirectional channel that holds messages until a single consumer retrieves them. \n",
    "# - provides a one-to-one message delivery model. \n",
    "# - useful for scenarios where you need to ensure that each message is processed only once by a single consumer1.\n",
    "\n",
    "# A service bus topic is a unidirectional channel that publishes messages to multiple subscriptions.\n",
    "# - provides a one-to-many message delivery model. \n",
    "# - useful for scenarios where you need to scale to large numbers of recipients or enable message filtering and subscription.\n",
    "\n",
    "# Queue:\n",
    "# Sender --> Queue --> Receiver\n",
    "\n",
    "# Topic:\n",
    "# Sender --> Topic --> Subscription 1 --> Receiver 1\n",
    "#                  --> Subscription 2 --> Receiver 2\n",
    "#                  --> Subscription 3 --> Receiver 3"
   ]
  },
  {
   "cell_type": "code",
   "execution_count": null,
   "id": "c6b33ae3-75bc-485c-9de8-35d6464c276e",
   "metadata": {
    "tags": []
   },
   "outputs": [],
   "source": [
    "import time\n",
    "import json"
   ]
  },
  {
   "cell_type": "markdown",
   "id": "584c0e31-cf93-444b-bb16-58d47d8499f2",
   "metadata": {},
   "source": [
    "## Azure Authentication"
   ]
  },
  {
   "cell_type": "code",
   "execution_count": null,
   "id": "e9e6196f-b9b3-4a8b-8afd-a491767acbd4",
   "metadata": {
    "tags": []
   },
   "outputs": [],
   "source": [
    "# install azure cli tools: https://learn.microsoft.com/en-us/cli/azure/install-azure-cli\n",
    "# install python packages: pip install azure-cli azure-identity azure-servicebus"
   ]
  },
  {
   "cell_type": "code",
   "execution_count": null,
   "id": "657b79c3-a9a2-42df-958c-6c0b89382221",
   "metadata": {
    "tags": []
   },
   "outputs": [],
   "source": [
    "# service principal: https://learn.microsoft.com/en-us/azure/developer/python/sdk/authentication-local-development-service-principal\n",
    "# import os\n",
    "# os.environ[\"AZURE_CLIENT_ID\"] = \"YOUR_CLIENT_ID\"\n",
    "# os.environ[\"AZURE_TENANT_ID\"] = \"YOUR_TENANT_ID\"\n",
    "# os.environ[\"AZURE_CLIENT_SECRET\"] = \"YOUR_CLIENT_SECRET\""
   ]
  },
  {
   "cell_type": "code",
   "execution_count": null,
   "id": "f9d463d6-7d67-4953-a929-46f250bafaea",
   "metadata": {
    "tags": []
   },
   "outputs": [],
   "source": [
    "# alternative to service principal: interactive web login via cli\n",
    "!az login"
   ]
  },
  {
   "cell_type": "code",
   "execution_count": null,
   "id": "c0325be9-617e-4210-b9ad-e45c9cdc3fb5",
   "metadata": {
    "tags": []
   },
   "outputs": [],
   "source": [
    "# set subscription\n",
    "# !az account show/list/set\n",
    "from azure.cli.core import get_default_cli\n",
    "get_default_cli().invoke([\"account\", \"show\"])"
   ]
  },
  {
   "cell_type": "code",
   "execution_count": null,
   "id": "968c644a-5cdb-43a3-a309-13fd25a97068",
   "metadata": {
    "tags": []
   },
   "outputs": [],
   "source": [
    "# azure credential object \n",
    "from azure.identity import DefaultAzureCredential\n",
    "credential = DefaultAzureCredential()"
   ]
  },
  {
   "cell_type": "markdown",
   "id": "fa1aa5a6-2670-43ac-a6b1-929cb4706e28",
   "metadata": {},
   "source": [
    "## Azure Service Bus: Queue"
   ]
  },
  {
   "cell_type": "code",
   "execution_count": null,
   "id": "7b0edfc5-8797-4d9b-b677-068b124da68d",
   "metadata": {
    "tags": []
   },
   "outputs": [],
   "source": [
    "# get connection string via azure portal -> service bus -> shared access policies -> add\n",
    "CONNECTION_STRING = \"XXXXXXXXXXXXXXXXXXXXXXXXXXXXXXXXXXXXXXXXXXXXXXXXXXXXXXXXXXXXXXXXXXXXXXXXXXXXXXXXXXXXXXXXXXXXXXXXXXXXXXXXXX\"\n",
    "SERVICE_BUS_QUEUE_NAME = \"XXXXXXXXXXXXXXXXXXX\""
   ]
  },
  {
   "cell_type": "code",
   "execution_count": null,
   "id": "ceded4f9-2ae8-4894-a331-1e0ff0a49add",
   "metadata": {},
   "outputs": [],
   "source": [
    "from azure.servicebus import ServiceBusClient, ServiceBusMessage\n",
    "\n",
    "# send to queue\n",
    "with ServiceBusClient.from_connection_string(CONNECTION_STRING) as client:\n",
    "    with client.get_queue_sender(SERVICE_BUS_QUEUE_NAME) as sender:\n",
    "        # send messages\n",
    "        messages = [\n",
    "            ServiceBusMessage(json.dumps({\"message\": \"test 1\"})),\n",
    "            ServiceBusMessage(json.dumps({\"message\": \"test 2\"})),\n",
    "            ServiceBusMessage(json.dumps({\"message\": \"test 3\"}))\n",
    "        ]\n",
    "        try:\n",
    "            sender.send_messages(messages)\n",
    "            print(f\"sent sucessfully {time.ctime()}\")\n",
    "        except Exception as e:\n",
    "            print(f\"failed {time.ctime()}, exception: {e}\")"
   ]
  },
  {
   "cell_type": "code",
   "execution_count": null,
   "id": "0a845dfc-d041-4de8-8970-90a074b22efc",
   "metadata": {},
   "outputs": [],
   "source": [
    "# receive from queue\n",
    "with ServiceBusClient.from_connection_string(CONNECTION_STRING) as client:\n",
    "    with client.get_queue_receiver(SERVICE_BUS_QUEUE_NAME) as receiver:\n",
    "        messages = receiver.receive_messages(max_message_count=10, max_wait_time=1)\n",
    "        for message in messages:\n",
    "            message_json = json.loads(str(message))\n",
    "            print(f\"received: {message_json}\")\n",
    "            # remove from queue\n",
    "            receiver.complete_message(message)"
   ]
  },
  {
   "cell_type": "markdown",
   "id": "c41576da-722f-4671-81f2-f45586cedd5f",
   "metadata": {
    "tags": []
   },
   "source": [
    "## Azure Service Bus: Topics (Pub-Sub)"
   ]
  },
  {
   "cell_type": "code",
   "execution_count": null,
   "id": "d8627c2d-17e6-4094-8f13-da88c7c85315",
   "metadata": {},
   "outputs": [],
   "source": [
    "# get connection string via azure portal -> service bus -> shared access policies -> add\n",
    "CONNECTION_STRING = \"XXXXXXXXXXXXXXXXXXXXXXXXXXXXXXXXXXXXXXXXXXXXXXXXXXXXXXXXXXXXXXXXXXXXXXXXXXXXXXXXXXXXXXXXXXXXXXXXXXXXXXXXXXXXXXXXX\"\n",
    "SERVICE_BUS_TOPIC_NAME = \"XXXXXXXXXXXXXXX\"\n",
    "SERVICE_BUS_SUB_NAME = \"XXXXXXXXXXXXX\""
   ]
  },
  {
   "cell_type": "code",
   "execution_count": null,
   "id": "66192dd5-9cbf-4274-bd93-93ad33154f24",
   "metadata": {
    "tags": []
   },
   "outputs": [],
   "source": [
    "from azure.servicebus import ServiceBusClient, ServiceBusMessage\n",
    "\n",
    "# send to topic\n",
    "with ServiceBusClient.from_connection_string(CONNECTION_STRING) as client:\n",
    "    with client.get_topic_sender(topic_name=SERVICE_BUS_TOPIC_NAME) as sender:\n",
    "        # send messages\n",
    "        messages = [\n",
    "            ServiceBusMessage(json.dumps({\"message\": \"test 1\"})),\n",
    "            ServiceBusMessage(json.dumps({\"message\": \"test 2\"})),\n",
    "            ServiceBusMessage(json.dumps({\"message\": \"test 3\"}))\n",
    "        ]\n",
    "        try:\n",
    "            sender.send_messages(messages)\n",
    "            print(f\"sent sucessfully {time.ctime()}\")\n",
    "        except Exception as e:\n",
    "            print(f\"failed {time.ctime()}, exception: {e}\")"
   ]
  },
  {
   "cell_type": "code",
   "execution_count": null,
   "id": "56c87d23-dc9f-4be3-bcf9-c3a33869bd09",
   "metadata": {
    "tags": []
   },
   "outputs": [],
   "source": [
    "# receive from topic\n",
    "with ServiceBusClient.from_connection_string(CONNECTION_STRING) as client:\n",
    "    with client.get_subscription_receiver(topic_name=SERVICE_BUS_TOPIC_NAME, subscription_name=SERVICE_BUS_SUB_NAME) as receiver:\n",
    "        messages = receiver.receive_messages(max_message_count=10, max_wait_time=1)\n",
    "        for message in messages:\n",
    "            message_json = json.loads(str(message))\n",
    "            print(f\"received: {message_json}\")\n",
    "            # mark as processed\n",
    "            receiver.complete_message(message)"
   ]
  }
 ],
 "metadata": {
  "kernelspec": {
   "display_name": "Python 3 (ipykernel)",
   "language": "python",
   "name": "python3"
  },
  "language_info": {
   "codemirror_mode": {
    "name": "ipython",
    "version": 3
   },
   "file_extension": ".py",
   "mimetype": "text/x-python",
   "name": "python",
   "nbconvert_exporter": "python",
   "pygments_lexer": "ipython3",
   "version": "3.11.0"
  }
 },
 "nbformat": 4,
 "nbformat_minor": 5
}
