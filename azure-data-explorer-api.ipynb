{
 "cells": [
  {
   "cell_type": "markdown",
   "id": "6c182729-795e-41f7-8e09-d4f862245fc6",
   "metadata": {},
   "source": [
    "# Azure Data Explorer (ADX)"
   ]
  },
  {
   "cell_type": "markdown",
   "id": "680f18f4-2f6e-4ba5-b143-a08f0516354d",
   "metadata": {},
   "source": [
    "## Azure Authentication"
   ]
  },
  {
   "cell_type": "code",
   "execution_count": null,
   "id": "8750d588-e23d-42d6-842c-140486c39a56",
   "metadata": {
    "tags": []
   },
   "outputs": [],
   "source": [
    "# interactive azure aad login\n",
    "!az login"
   ]
  },
  {
   "cell_type": "code",
   "execution_count": null,
   "id": "6441a481-2224-4c9a-a6c5-7b7e472f23bb",
   "metadata": {
    "tags": []
   },
   "outputs": [],
   "source": [
    "# az account show\n",
    "# az account list\n",
    "# az account set --subscription \"xxxxxxxx-xxxx-xxxx-xxxx-xxxxxxxxxxxx\"\n",
    "from azure.cli.core import get_default_cli\n",
    "get_default_cli().invoke([\"account\", \"show\"])"
   ]
  },
  {
   "cell_type": "markdown",
   "id": "a3e7b35a-8bca-4a5b-9805-9f937b7afbd8",
   "metadata": {},
   "source": [
    "## Conect to ADX and Run KQL Query"
   ]
  },
  {
   "cell_type": "code",
   "execution_count": null,
   "id": "3c635138-a0ac-4088-b3d7-8812748939bd",
   "metadata": {},
   "outputs": [],
   "source": [
    "from azure.kusto.data import KustoClient, KustoConnectionStringBuilder\n",
    "from azure.kusto.data.exceptions import KustoServiceError\n",
    "from azure.kusto.data.helpers import dataframe_from_result_table\n",
    "import pandas as pd"
   ]
  },
  {
   "cell_type": "code",
   "execution_count": null,
   "id": "d33dd0b8-e48d-4ec0-902d-d9d8df596aca",
   "metadata": {},
   "outputs": [],
   "source": [
    "KUSTO_URI = \"https://XXXXXXXXXX.XXXXX.kusto.windows.net\""
   ]
  },
  {
   "cell_type": "code",
   "execution_count": null,
   "id": "39bfa9c6-3c48-4cb3-bdc0-595cc16477f2",
   "metadata": {},
   "outputs": [],
   "source": [
    "kcsb = KustoConnectionStringBuilder.with_az_cli_authentication(KUSTO_URI)\n",
    "client = KustoClient(kcsb)"
   ]
  },
  {
   "cell_type": "code",
   "execution_count": null,
   "id": "6bac7284-4548-4c29-92d4-ab33de548994",
   "metadata": {},
   "outputs": [],
   "source": [
    "database = \"XXXXXXXXXX\"\n",
    "query = \"XXXXXXXXX | take 10\"\n",
    "try:\n",
    "    response = client.execute(database, query)\n",
    "except KustoServiceError as error:\n",
    "    print(\"Error:\", error)"
   ]
  },
  {
   "cell_type": "code",
   "execution_count": null,
   "id": "032cecdf-7782-4c6b-875f-03a16743b5d9",
   "metadata": {},
   "outputs": [],
   "source": [
    "dataframe_from_result_table(result.primary_results[0])"
   ]
  },
  {
   "cell_type": "markdown",
   "id": "083d2bd6-31ca-4fe7-8fac-6879b7e0436b",
   "metadata": {},
   "source": [
    "## API Hack to Automatically Generate CSV File Schemas and Mappings"
   ]
  },
  {
   "cell_type": "code",
   "execution_count": null,
   "id": "6d9f3e8d-2b93-4366-9470-8fb47852230c",
   "metadata": {},
   "outputs": [],
   "source": [
    "import json\n",
    "import requests\n",
    "import pandas as pd"
   ]
  },
  {
   "cell_type": "code",
   "execution_count": null,
   "id": "acb040ae-25e4-4e5c-a059-c34cca6f2e0f",
   "metadata": {},
   "outputs": [],
   "source": [
    "# get via deverloper tools in browser, get while in ADX and going to data ingest page\n",
    "my_auth_token = \"Bearer XXXXXXXXXXXXXXXXXXXXXXXXXXXXXXXXXXXXXXXXXXXXXXXXXXXXXXXXXXXXXXXXXXXXXXXXXXXXXXXX\""
   ]
  },
  {
   "cell_type": "code",
   "execution_count": null,
   "id": "7c31755c-7306-4ec1-82c0-c6bade4c6d55",
   "metadata": {},
   "outputs": [],
   "source": [
    "# SAS token for raw data file(s) to ingest in Azure Storage \n",
    "my_url = \"https://XXXXXXXXXXXXXXXXXXXXXXXXXXXXXXXXXXXXXXXXXXXXXXXXXXXXXXXXXXXXXXXXXXXXXXXX\""
   ]
  },
  {
   "cell_type": "code",
   "execution_count": null,
   "id": "a25df747-28f9-414e-94ba-8cb592046d53",
   "metadata": {},
   "outputs": [],
   "source": [
    "# new table name\n",
    "table_name = \"my_table_name\""
   ]
  },
  {
   "cell_type": "code",
   "execution_count": null,
   "id": "ec27a477-41e2-4d0a-85ae-36e50880b33a",
   "metadata": {},
   "outputs": [],
   "source": [
    "# payload\n",
    "my_payload =  {\n",
    "    \"db\" : database,\n",
    "    \"csl\" : \"evaluate external_data_schema('\" + my_url +\"', 'csv', dynamic({\\\"useFirstRowAsHeader\\\":true}))\" \n",
    "}\n",
    "my_payload_json = json.dumps(my_payload)"
   ]
  },
  {
   "cell_type": "code",
   "execution_count": null,
   "id": "64dbff04-6599-4194-9686-b073ef9b0bd9",
   "metadata": {},
   "outputs": [],
   "source": [
    "# adx api request \n",
    "with requests.Session() as ses:\n",
    "    response = ses.post(\n",
    "        url=f\"{KUSTO_URI}/v2/rest/query\",\n",
    "        headers= {\n",
    "            \"authorization\" : my_auth_token,\n",
    "            \"content-type\" : \"application/json; charset=UTF-8\",\n",
    "        },\n",
    "        data=my_payload_json,\n",
    "    )\n",
    "    if not response.ok:\n",
    "        print(response, response.content, response.status_code)\n",
    "    else:\n",
    "        result = json.loads(response.content)\n",
    "        df = pd.DataFrame(result[2][\"Rows\"], columns=[\"name\",\"index\",\"system_type\",\"type\"])\n",
    "        df['name'] = df['name'].str.replace(\"[\", \"\", regex=True).str.replace(\"]\", \"\", regex=True).str.replace(\"'\", \"\", regex=True)\n",
    "        df['name_safe'] = \"['\" + df['name'] + \"']\"\n",
    "        df['index'] = df['index'].astype('str')"
   ]
  },
  {
   "cell_type": "code",
   "execution_count": null,
   "id": "9ef946e3-204b-4bdf-9485-dbebf23b6662",
   "metadata": {},
   "outputs": [],
   "source": [
    "# generate KQL schemas, mappings, transforms, and policies \n",
    "staging_schema = f\".create table ['STAGING_{table_name}'] (\\n    \" + \",\\n    \".join(df['name_safe'] + \":string\") + \"\\n    )\"\n",
    "production_schema = f\".create table ['{table_name}'] (\\n    \" + \",\\n    \".join(df['name_safe'] + \":\" + df['type']) + \"\\n    )\"\n",
    "mapping = f\".create table ['STAGING_{table_name}'] ingestion csv mapping 'STAGING_{table_name}_mapping'\\n   ```[\\n        \" + \",\\n        \".join('{\"column\":\"' + df['name'] +'\", \"Properties\":{\"Ordinal\":\"' + df['index'] +'\"}}') + \"\\n   ]```\"\n",
    "transform_function = f\".create function {table_name}_transform()\\n    \" + \"{\\n\" + f\"        STAGING_{table_name}\\n\" + \"        ...\\n        | project \" + ', '.join(df['name']) + \"\\n    }\"\n",
    "policy_1 = f\".alter table {table_name} policy update\\n    @'[\" + '{\"IsEnabled\": true, \"Source\": \"STAGING_' + table_name + f', \"Query\": \"{table_name}_transform()' + '\", \"IsTransactional\": true, \"PropagateIngestionProperties\": false}]' + \"'\"\n",
    "policy_2 = f\".alter-merge table STAGING_{table_name} policy retention softdelete = 0s\""
   ]
  },
  {
   "cell_type": "code",
   "execution_count": null,
   "id": "b4edf5cf-c979-43b5-a802-6a57c2e4439a",
   "metadata": {},
   "outputs": [],
   "source": [
    "# view generated KQL\n",
    "print(staging_schema, end='\\n\\n')\n",
    "print(production_schema, end='\\n\\n')\n",
    "print(mapping, end='\\n\\n')\n",
    "print(transform_function, end='\\n\\n')\n",
    "print(policy_1, end='\\n\\n')\n",
    "print(policy_2, end='\\n\\n')"
   ]
  }
 ],
 "metadata": {
  "kernelspec": {
   "display_name": "Python 3 (ipykernel)",
   "language": "python",
   "name": "python3"
  },
  "language_info": {
   "codemirror_mode": {
    "name": "ipython",
    "version": 3
   },
   "file_extension": ".py",
   "mimetype": "text/x-python",
   "name": "python",
   "nbconvert_exporter": "python",
   "pygments_lexer": "ipython3",
   "version": "3.11.0"
  }
 },
 "nbformat": 4,
 "nbformat_minor": 5
}
