{
 "cells": [
  {
   "cell_type": "markdown",
   "id": "497d10c4-75b6-4d96-b3a3-c3a5ae57a057",
   "metadata": {},
   "source": [
    "# Azure Storage: Append Blob Latency "
   ]
  },
  {
   "cell_type": "code",
   "execution_count": null,
   "id": "8b38fa9d-8af2-4d18-98de-df4fe0904384",
   "metadata": {
    "tags": []
   },
   "outputs": [],
   "source": [
    "from azure.cli.core import get_default_cli\n",
    "get_default_cli().invoke([\"account\", \"show\"])"
   ]
  },
  {
   "cell_type": "code",
   "execution_count": null,
   "id": "688799a5-d544-483c-b38b-0ef882ffe4e7",
   "metadata": {
    "tags": []
   },
   "outputs": [],
   "source": [
    "from azure.identity import DefaultAzureCredential\n",
    "credential = DefaultAzureCredential()"
   ]
  },
  {
   "cell_type": "code",
   "execution_count": null,
   "id": "1e3206ee-0d0d-4716-918f-55e5ac1dfbc6",
   "metadata": {
    "tags": []
   },
   "outputs": [],
   "source": [
    "from azure.storage.blob import BlobServiceClient\n",
    "storage_url = \"https://XXXXXXXXXXXXXXXXXXXXXXXXXX.blob.core.windows.net/\"\n",
    "blob_service_client = BlobServiceClient(account_url=storage_url, credential=credential)\n",
    "containers = blob_service_client.list_containers()\n",
    "container_name = \"XXXXXXXXXXXXXXXXXXXXXX\"\n",
    "container_client = blob_service_client.get_container_client(container_name)"
   ]
  },
  {
   "cell_type": "code",
   "execution_count": null,
   "id": "431dd0c8-2134-4a1b-8b90-bcbcca983623",
   "metadata": {
    "tags": []
   },
   "outputs": [],
   "source": [
    "results = []\n",
    "for blob in container_client.list_blobs():\n",
    "    blob_client = blob_service_client.get_blob_client(container=container_name, blob=blob.name)\n",
    "    blob_properties = blob_client.get_blob_properties()\n",
    "    last_modified_date = blob_properties.last_modified\n",
    "    created_date = blob_properties.creation_time\n",
    "    date_difference = (last_modified_date - created_date).total_seconds() / 60\n",
    "    results.append([blob.name, created_date, last_modified_date, date_difference])"
   ]
  },
  {
   "cell_type": "code",
   "execution_count": null,
   "id": "f7df45a1-3931-4751-9a51-02260bf4128a",
   "metadata": {
    "tags": []
   },
   "outputs": [],
   "source": [
    "import pandas as pd\n",
    "df = pd.DataFrame(results, columns=[\"filename\",\"created_date\",\"modified_date\",\"difference_min\"])\n",
    "df[\"difference_min\"].describe()"
   ]
  },
  {
   "cell_type": "code",
   "execution_count": null,
   "id": "832515dc-9c0a-4a5b-b78b-663f63a215d9",
   "metadata": {},
   "outputs": [],
   "source": []
  }
 ],
 "metadata": {
  "kernelspec": {
   "display_name": "Python 3 (ipykernel)",
   "language": "python",
   "name": "python3"
  },
  "language_info": {
   "codemirror_mode": {
    "name": "ipython",
    "version": 3
   },
   "file_extension": ".py",
   "mimetype": "text/x-python",
   "name": "python",
   "nbconvert_exporter": "python",
   "pygments_lexer": "ipython3",
   "version": "3.11.3"
  }
 },
 "nbformat": 4,
 "nbformat_minor": 5
}
