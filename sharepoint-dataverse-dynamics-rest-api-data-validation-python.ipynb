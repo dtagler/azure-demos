{
 "cells": [
  {
   "cell_type": "markdown",
   "id": "2eb961fe-5236-4ef3-b53c-07bea61ecd88",
   "metadata": {},
   "source": [
    "# **SharePoint and Dataverse/Dynamics REST API for Data Validation**"
   ]
  },
  {
   "cell_type": "markdown",
   "id": "86d3c6bf-a3f1-476a-893b-5d5f176d567a",
   "metadata": {},
   "source": [
    "This notebook demonstrates how to connect to SharePoint and Dataverse using the REST API in Python. The use case was data validation after a data migration. After authenticating, all data is pulled from both SharePoint and Dataverse, and then compared row by row to find any differences. Recursively pulls 5000 results per request. Successfully used with tables containing over 1M rows."
   ]
  },
  {
   "cell_type": "code",
   "execution_count": null,
   "id": "18fa20bc-0dd0-4e13-a609-327c5059cc26",
   "metadata": {
    "tags": []
   },
   "outputs": [],
   "source": [
    "import requests\n",
    "import json\n",
    "import pickle \n",
    "import time\n",
    "import pandas as pd"
   ]
  },
  {
   "cell_type": "code",
   "execution_count": null,
   "id": "27e1288e-efdc-4c4d-8a60-541af87f4fd7",
   "metadata": {
    "tags": []
   },
   "outputs": [],
   "source": [
    "# pandas display options \n",
    "pd.set_option('display.max_columns', None)\n",
    "pd.set_option('display.max_rows', 100)"
   ]
  },
  {
   "cell_type": "markdown",
   "id": "047892f1-935a-42ce-a159-a62742fe792e",
   "metadata": {},
   "source": [
    "## **SHAREPOINT**"
   ]
  },
  {
   "cell_type": "code",
   "execution_count": null,
   "id": "0125d073-9f98-4d9b-a567-67421c115676",
   "metadata": {},
   "outputs": [],
   "source": [
    "SHAREPOINT_URL = \"https://XXXXXXXXXXXXXX.sharepoint.com/sites/XXXXXXXXXXXXXXXXX\""
   ]
  },
  {
   "cell_type": "markdown",
   "id": "81a3b3fb-9b83-4d71-a4c8-5e395cb9d10a",
   "metadata": {},
   "source": [
    "### REST API using rtFa and FedAuth Cookies"
   ]
  },
  {
   "cell_type": "code",
   "execution_count": null,
   "id": "fc45cd61-06e9-4982-babb-5c6bd6421884",
   "metadata": {},
   "outputs": [],
   "source": [
    "# if unable to use app  principal, you can get your cookies directly in the sharepoint web interface\n",
    "# browser F12 developer tools -> networking -> open a sharepoint list -> look for something like getallitems call, copy cookies header\n",
    "SHAREPOINT_COOKIES = \"rtFa=XXXXXXXXXXXXXXXXXX; FedAuth=XXXXXXXXXXXXXXXXXXXXXXXX\""
   ]
  },
  {
   "cell_type": "code",
   "execution_count": null,
   "id": "31d488ba-6cd0-42c7-828b-850707e6ac16",
   "metadata": {},
   "outputs": [],
   "source": [
    "# sharepoint table\n",
    "sharepoint_table_name = \"YOUR_TABLE_NAME\"\n",
    "sharepoint_columns = [\n",
    "    \"YOUR_COLUMN_1\",\n",
    "    \"YOUR_COLUMN_2\",\n",
    "    \"YOUR_COLUMN_3\", \n",
    "]"
   ]
  },
  {
   "cell_type": "code",
   "execution_count": null,
   "id": "cadd895c-0cde-44ab-86b6-b2dd45dd6d27",
   "metadata": {},
   "outputs": [],
   "source": [
    "# request headers  \n",
    "sharepoint_session = requests.Session()\n",
    "sharepoint_session.headers.update(\n",
    "    {\n",
    "        \"authority\" : \"XXXXXXXX.sharepoint.com\",\n",
    "        'accept':'application/json;odata=nometadata',\n",
    "        \"accept-encoding\" : \"gzip, deflate, br\",\n",
    "        'content-type': 'application/json;charset=utf-8;odata=nometadata',\n",
    "        \"cookie\" : SHAREPOINT_COOKIES,\n",
    "        \"user-agent\" : f\"python-requests/{requests.__version__}\",\n",
    "        \"connection\" : \"keep-alive\",\n",
    "    }\n",
    ")"
   ]
  },
  {
   "cell_type": "code",
   "execution_count": null,
   "id": "62ccf95a-e3ef-4fb7-9f4c-5535bb27c8f6",
   "metadata": {},
   "outputs": [],
   "source": [
    "# prep request url\n",
    "sharepoint_columns_comma_seperated = \",\".join(sharepoint_columns)\n",
    "sharepoint_select_columns_and_page_size = f\"?$select={sharepoint_columns_comma_seperated}&$top=5000\"\n",
    "sharepoint_request_uri = f\"{SHAREPOINT_URL}/_api/web/lists/getbytitle('{sharepoint_table_name}')/items\"\n",
    "sharepoint_request_uri += sharepoint_select_columns_and_page_size\n",
    "print(sharepoint_request_uri)"
   ]
  },
  {
   "cell_type": "code",
   "execution_count": null,
   "id": "c4b748fb-35d2-41ba-bff1-ff965123ebe8",
   "metadata": {},
   "outputs": [],
   "source": [
    "# request loop\n",
    "sharepoint_start_time = time.time()\n",
    "try:\n",
    "    sharepoint_result = sharepoint_session.get(sharepoint_request_uri)\n",
    "    sharepoint_result_json = json.loads(sharepoint_result.content)\n",
    "except:\n",
    "    raise Exception(f\"{sharepoint_result}, {sharepoint_result.content}\")\n",
    "sharepoint_result_json_value = sharepoint_result_json[\"value\"]\n",
    "print(\"Items Read: \", len(sharepoint_result_json_value), sep=\"\", end=\"\")\n",
    "while \"odata.nextLink\" in sharepoint_result_json:\n",
    "    sharepoint_result = sharepoint_session.get(sharepoint_result_json[\"odata.nextLink\"])\n",
    "    sharepoint_result_json = json.loads(sharepoint_result.content)\n",
    "    sharepoint_result_json_value += sharepoint_result_json[\"value\"]\n",
    "    print(\"...\", len(sharepoint_result_json_value), sep=\"\", end=\"\")\n",
    "sharepoint_end_time = time.time()\n",
    "print(\"\\nRuntime:\", round((sharepoint_end_time-sharepoint_start_time)/60, 2), \"min\")"
   ]
  },
  {
   "cell_type": "code",
   "execution_count": null,
   "id": "bfcbf3f2-cbb7-4d81-9a4b-3a9170e83a44",
   "metadata": {},
   "outputs": [],
   "source": [
    "# convert to pandas dataframe \n",
    "df_sharepoint_raw = pd.DataFrame(sharepoint_result_json_value, dtype=\"object\")[sharepoint_columns]\n",
    "df_sharepoint_raw.info()"
   ]
  },
  {
   "cell_type": "markdown",
   "id": "5a498059-e234-4d96-8ae5-dd230453f2f5",
   "metadata": {},
   "source": [
    "### Save/Load Raw Data"
   ]
  },
  {
   "cell_type": "code",
   "execution_count": null,
   "id": "22a16880-874d-47af-ac67-b1ad8597ed26",
   "metadata": {},
   "outputs": [],
   "source": [
    "# save file\n",
    "with open(\"df_sharepoint_raw.pkl\", \"wb\") as f1:\n",
    "    pickle.dump(df_sharepoint_raw, f1)"
   ]
  },
  {
   "cell_type": "code",
   "execution_count": null,
   "id": "b864c562-8d5e-4b06-86af-281cab8b84c7",
   "metadata": {},
   "outputs": [],
   "source": [
    "# load file\n",
    "with open(\"df_sharepoint_raw.pkl\", \"rb\") as f1:\n",
    "    df_sharepoint_raw = pickle.load(f1)"
   ]
  },
  {
   "cell_type": "markdown",
   "id": "a6113c3a-45de-44c3-938f-a294ef2abc41",
   "metadata": {},
   "source": [
    "### Alternative Auth Method #1: Service Principal with REST API"
   ]
  },
  {
   "cell_type": "code",
   "execution_count": null,
   "id": "5b71e325-613e-4a50-b463-a9cdb5d1af0e",
   "metadata": {},
   "outputs": [],
   "source": [
    "# reference: https://martinnoah.com/sharepoint-rest-api-with-python.html\n",
    "# get access token\n",
    "client_id = \"XXXXXXXXXXXXXXXXXXXXXXXXXXXX\"\n",
    "client_secret = \"XXXXXXXXXXXXXXXXXXXXXX\"\n",
    "tenant =  'XXXXXXXXXXXX'\n",
    "tenant_id = 'XXXXXXXXXXXXXXXXXXXXXXXXXXXXXX'  \n",
    "client_id = client_id + '@' + tenant_id\n",
    "data = {\n",
    "    'grant_type':'client_credentials',\n",
    "    'resource': \"00000003-0000-0ff1-ce00-000000000000/\" + tenant + \".sharepoint.com@\" + tenant_id, \n",
    "    'client_id': client_id,\n",
    "    'client_secret': client_secret,\n",
    "}\n",
    "headers = {\n",
    "    'Content-Type':'application/x-www-form-urlencoded'\n",
    "}\n",
    "url = f\"https://accounts.accesscontrol.windows.net/{tenant_id}/tokens/OAuth/2\"\n",
    "r = requests.post(url, data=data, headers=headers)\n",
    "json_data = json.loads(r.text)\n",
    "print(json_data)"
   ]
  },
  {
   "cell_type": "code",
   "execution_count": null,
   "id": "421d171a-ce8d-4dc0-bfa8-44f8edbac8cb",
   "metadata": {},
   "outputs": [],
   "source": [
    "# sharepoint rest api request example\n",
    "sharepoint_site_name = \"XXXXXXXXXXXXX\"\n",
    "headers = {\n",
    "    'Authorization': \"Bearer \" + json_data['access_token'],\n",
    "    'Accept':'application/json;odata=verbose',\n",
    "    'Content-Type': 'application/json;odata=verbose'\n",
    "}\n",
    "url = f\"https://{tenant}.sharepoint.com/sites/{sharepoint_site_name}/_api/web/lists/getbytitle('{sharepoint_table_name}')/items\"\n",
    "requests.get(url, headers=headers)"
   ]
  },
  {
   "cell_type": "markdown",
   "id": "3661de90-73a5-487c-ae31-58a9730ce7ad",
   "metadata": {},
   "source": [
    "### Alternative Auth Method #2: Service Principal with Office365-Sharepoint API "
   ]
  },
  {
   "cell_type": "code",
   "execution_count": null,
   "id": "aa9d5c00-3a4f-42b6-bcc8-5fb2406319a5",
   "metadata": {},
   "outputs": [],
   "source": [
    "from office365.sharepoint.client_context import ClientContext, ClientCredential"
   ]
  },
  {
   "cell_type": "code",
   "execution_count": null,
   "id": "ab01c82f-90dd-4f1a-882c-d3ff0b30ea04",
   "metadata": {
    "tags": []
   },
   "outputs": [],
   "source": [
    "# sharepoint auth params \n",
    "CLIENT_ID = \"XXXXXXXXXXXXXXXXXXXXXXX\"\n",
    "CLIENT_SECRET = \"XXXXXXXXXXXXXXXXXXXXXX\"\n",
    "SHAREPOINT_URL = \"https://XXXXXXXXXXXXXXXXX.sharepoint.com/sites/XXXXXXXXXXXXXXXXXXX\""
   ]
  },
  {
   "cell_type": "code",
   "execution_count": null,
   "id": "054aa40e-2242-4056-ae3e-6cc83fd64261",
   "metadata": {
    "tags": []
   },
   "outputs": [],
   "source": [
    "# sharepoint app service principal auth\n",
    "# how to setup: https://github.com/vgrem/Office365-REST-Python-Client/wiki/How-to-connect-to-SharePoint-Online-and-and-SharePoint-2013-2016-2019-on-premises--with-app-principal\n",
    "ctx = ClientContext(SHAREPOINT_URL).with_client_credentials(CLIENT_ID, CLIENT_SECRET)\n",
    "target_web = ctx.web.get().execute_query()\n",
    "print(target_web.url)"
   ]
  },
  {
   "cell_type": "code",
   "execution_count": null,
   "id": "08e6a4c3-e684-4386-a22a-bec3fe5de59f",
   "metadata": {
    "tags": []
   },
   "outputs": [],
   "source": [
    "# download sharepoint data \n",
    "sharepoint_site_pages = ctx.web.lists.get_by_title(sharepoint_table_name)\n",
    "sharepoint_all_items = sharepoint_site_pages.items.get_all(\n",
    "    5_000, lambda x:print(\"Items Read:\", len(x))\n",
    ").select(sharepoint_columns).execute_query()"
   ]
  },
  {
   "cell_type": "code",
   "execution_count": null,
   "id": "0dd46086-1c4f-46e5-bde1-b886d47f8a98",
   "metadata": {
    "tags": []
   },
   "outputs": [],
   "source": [
    "# convert to pandas dataframe \n",
    "sharepoint_all_items_list = []\n",
    "for each_item in sharepoint_all_items:\n",
    "    sharepoint_all_items_list.append(each_item.properties)\n",
    "df_sharepoint_raw = pd.DataFrame(sharepoint_all_items_list, dtype=\"object\")"
   ]
  },
  {
   "cell_type": "markdown",
   "id": "60c0009b-ace0-4a66-9b49-9d73bbce2578",
   "metadata": {},
   "source": [
    "## **DATAVERSE**"
   ]
  },
  {
   "cell_type": "code",
   "execution_count": null,
   "id": "0c1402b1-8180-4ffb-83e7-1fa3022b15b1",
   "metadata": {},
   "outputs": [],
   "source": [
    "DATAVERSE_URL = \"https://XXXXXXXXXXXXX.XXXXXX.dynamics.com\""
   ]
  },
  {
   "cell_type": "markdown",
   "id": "a03c7705-c266-4a21-b868-4bfd1f2781c6",
   "metadata": {},
   "source": [
    "### REST API using Access Token"
   ]
  },
  {
   "cell_type": "code",
   "execution_count": null,
   "id": "6ba9b6a3-9254-4de6-9995-6b407c3a995f",
   "metadata": {},
   "outputs": [],
   "source": [
    "# if unable to use interactive login below, you can get your token directly in the dataverse web interface\n",
    "# F12 browser developer tools -> networking -> open a dv table -> look for something like a getclientmetadata call, copy bearer token\n",
    "DATAVERSE_ACCESS_TOKEN = \"XXXXXXXXXXXXXXXXXXXXXXXXXXXXXXXXXXXXXXXXXXXXXXXXXXXXXXXXXXXXXX\""
   ]
  },
  {
   "cell_type": "code",
   "execution_count": null,
   "id": "adaa7c4b-6801-4c04-a9a7-9d56cd45688c",
   "metadata": {
    "tags": []
   },
   "outputs": [],
   "source": [
    "# dataverse table info\n",
    "dataverse_table_name = \"YOUR_TALBE_NAME\"\n",
    "dataverse_columns = [\n",
    "    \"YOUR_COLUMN_1\",\n",
    "    \"YOUR_COLUMN_2\",\n",
    "    \"YOUR_COLUMN_3\", \n",
    "]"
   ]
  },
  {
   "cell_type": "code",
   "execution_count": null,
   "id": "f8826698-c43d-492c-aa1f-b110bd82c6e9",
   "metadata": {
    "tags": []
   },
   "outputs": [],
   "source": [
    "# request session headers \n",
    "dataverse_session = requests.Session()\n",
    "dataverse_session.headers.update(\n",
    "    {\n",
    "        \"Authorization\" : f\"Bearer {DATAVERSE_ACCESS_TOKEN}\",\n",
    "        'OData-MaxVersion': '4.0', \n",
    "        'OData-Version': '4.0', \n",
    "        'If-None-Match': 'null', \n",
    "        'Accept': 'application/json',\n",
    "        \"Content-Type\": \"application/json; charset=utf-8\",\n",
    "        \"Prefer\" : \"odata.maxpagesize=5000\",\n",
    "        \"User-Agent\" : f\"python-requests/{requests.__version__}\",\n",
    "        \"Connection\" : \"keep-alive\",\n",
    "    }\n",
    ")"
   ]
  },
  {
   "cell_type": "code",
   "execution_count": null,
   "id": "54ea3fb4-8115-4979-82c1-a4e57f455331",
   "metadata": {
    "tags": []
   },
   "outputs": [],
   "source": [
    "# prep request \n",
    "dataverse_columns_comma_seperated = \",\".join(dataverse_columns)\n",
    "dataverse_select_columns = f\"?$select={dataverse_columns_comma_seperated}\"\n",
    "dataverse_request_uri = f'{DATAVERSE_URL}/api/data/v9.2/{dataverse_table_name}'\n",
    "dataverse_request_uri += dataverse_select_columns\n",
    "print(dataverse_request_uri)"
   ]
  },
  {
   "cell_type": "code",
   "execution_count": null,
   "id": "c9bd2aaf-d5eb-4f75-8c24-8bad377e1902",
   "metadata": {},
   "outputs": [],
   "source": [
    "# request loop\n",
    "dataverse_start_time = time.time()\n",
    "try:\n",
    "    dataverse_result = dataverse_session.get(dataverse_request_uri)\n",
    "    dataverse_result_json = json.loads(dataverse_result.content)\n",
    "except:\n",
    "    raise Exception(f\"{dataverse_result}, {dataverse_result.content}\")\n",
    "dataverse_result_json_value = dataverse_result_json[\"value\"]\n",
    "print(\"Items Read: \", len(dataverse_result_json_value), sep=\"\", end=\"\")\n",
    "while \"@odata.nextLink\" in dataverse_result_json:\n",
    "    dataverse_result = dataverse_session.get(dataverse_result_json[\"@odata.nextLink\"])\n",
    "    dataverse_result_json = json.loads(dataverse_result.content)\n",
    "    dataverse_result_json_value += dataverse_result_json[\"value\"]\n",
    "    print(\"...\", len(dataverse_result_json_value), sep=\"\", end=\"\")\n",
    "dataverse_end_time = time.time()\n",
    "print(\"\\nRuntime:\", round((dataverse_end_time-dataverse_start_time)/60, 2), \"min\")"
   ]
  },
  {
   "cell_type": "code",
   "execution_count": null,
   "id": "fc470bbf-c9f6-4483-a03d-ef4a5683d76f",
   "metadata": {
    "tags": []
   },
   "outputs": [],
   "source": [
    "# convert to pandas dataframe \n",
    "df_dataverse_raw = pd.DataFrame(dataverse_result_json_value, dtype=\"object\")[dataverse_columns]\n",
    "df_dataverse_raw.info()"
   ]
  },
  {
   "cell_type": "markdown",
   "id": "fe0f9fc9-898d-4214-9a84-5b79cd4e5d42",
   "metadata": {},
   "source": [
    "### Save/Load Raw Data"
   ]
  },
  {
   "cell_type": "code",
   "execution_count": null,
   "id": "271805a7-cf83-4f5d-b107-23b79526d16f",
   "metadata": {},
   "outputs": [],
   "source": [
    "# save files\n",
    "with open(\"df_dataverse_raw.pkl\", \"wb\") as f2:\n",
    "    pickle.dump(df_dataverse_raw, f2)"
   ]
  },
  {
   "cell_type": "code",
   "execution_count": null,
   "id": "bb00f1a2-0562-427d-814e-343643f7dffe",
   "metadata": {},
   "outputs": [],
   "source": [
    "# load files\n",
    "with open(\"df_dataverse_raw.pkl\", \"rb\") as f2:\n",
    "    df_dataverse_raw = pickle.load(f2)"
   ]
  },
  {
   "cell_type": "markdown",
   "id": "ae50c30d-ced2-49ba-ba3b-b3a3566a8a4d",
   "metadata": {},
   "source": [
    "### Alternative Auth Method: MSAL Auth via Interactive Web Browser Log-In"
   ]
  },
  {
   "cell_type": "code",
   "execution_count": null,
   "id": "b6a81392-5daa-4fd6-82d2-196f01866332",
   "metadata": {},
   "outputs": [],
   "source": [
    "# how to setup: https://andyhowes.co/easily-connect-to-dataverse-microsoft-dynamics-with-python/\n",
    "CLIENT_ID = \"XXXXXXXXXXXXXXXXXXXXXX\"\n",
    "TENANT_ID = \"XXXXXXXXXXXXXXXXXXXXXXXXXX\"\n",
    "AUTHORITY_BASE = \"https://login.microsoftonline.com\"\n",
    "SCOPE_SUFFIX = \"user_impersonation\""
   ]
  },
  {
   "cell_type": "code",
   "execution_count": null,
   "id": "d708f4c5-91a0-4f06-8bad-4dc30154f88a",
   "metadata": {
    "tags": []
   },
   "outputs": [],
   "source": [
    "# interactive browser auth, note: app registration must have localhost redirect \n",
    "import msal\n",
    "AUTHORITY_URL = f\"{AUTHORITY_BASE}/{TENANT_ID}\"\n",
    "SCOPE = f\"{DATAVERSE_URL}/{SCOPE_SUFFIX}\"\n",
    "app = msal.PublicClientApplication(CLIENT_ID, authority=AUTHORITY_URL)\n",
    "auth_result = app.acquire_token_interactive([SCOPE])\n",
    "DATAVERSE_ACCESS_TOKEN = auth_result[\"access_token\"]"
   ]
  },
  {
   "cell_type": "markdown",
   "id": "056c16ec-5700-4852-a825-1d2cb3e21165",
   "metadata": {},
   "source": [
    "## Data Processing"
   ]
  },
  {
   "cell_type": "code",
   "execution_count": null,
   "id": "3c05023a-89b2-4e73-aded-1b23c1cccc6a",
   "metadata": {
    "tags": []
   },
   "outputs": [],
   "source": [
    "# copies for data processing \n",
    "df_sharepoint_processed = df_sharepoint_raw.copy()\n",
    "df_dataverse_processed = df_dataverse_raw.copy()"
   ]
  },
  {
   "cell_type": "code",
   "execution_count": null,
   "id": "c7e25b8f-35e8-4c33-8da1-9362a9f96954",
   "metadata": {
    "tags": []
   },
   "outputs": [],
   "source": [
    "# column names\n",
    "df_dataverse_processed = df_dataverse_processed.rename(\n",
    "    columns={\n",
    "        'BEFORE_1' : 'AFTER_1',\n",
    "        'BEFORE_2' : 'AFTER_2',\n",
    "        'BEFORE_3' : 'AFTER_3',\n",
    "    }\n",
    ")"
   ]
  },
  {
   "cell_type": "code",
   "execution_count": null,
   "id": "8290501f-df61-4a0a-894e-35ce9a99f30c",
   "metadata": {
    "tags": []
   },
   "outputs": [],
   "source": [
    "# column order\n",
    "column_order = [\n",
    "    'YOUR_COLUMN_1',\n",
    "    'YOUR_COLUMN_2',\n",
    "    'YOUR_COLUMN_3'\n",
    "]\n",
    "df_sharepoint_processed = df_sharepoint_processed[column_order]\n",
    "df_dataverse_processed= df_dataverse_processed[column_order]"
   ]
  },
  {
   "cell_type": "code",
   "execution_count": null,
   "id": "2b453149-ee41-42a2-a0c1-7d478bce12a8",
   "metadata": {
    "tags": []
   },
   "outputs": [],
   "source": [
    "# empty values\n",
    "df_sharepoint_processed = df_sharepoint_processed.fillna(\"Null\")\n",
    "df_dataverse_processed = df_dataverse_processed.fillna(\"Null\")\n",
    "df_sharepoint_processed = df_sharepoint_processed.replace(\"\", \"Null\")\n",
    "df_dataverse_processed = df_dataverse_processed.replace(\"\", \"Null\")"
   ]
  },
  {
   "cell_type": "code",
   "execution_count": null,
   "id": "98f2f603-adcf-4ae8-9d13-b805614d71a1",
   "metadata": {
    "tags": []
   },
   "outputs": [],
   "source": [
    "# trim whitespace values \n",
    "df_sharepoint_processed = df_sharepoint_processed.map(lambda x: x.strip() if isinstance(x, str) else x)\n",
    "df_dataverse_processed = df_dataverse_processed.map(lambda x: x.strip() if isinstance(x, str) else x)"
   ]
  },
  {
   "cell_type": "code",
   "execution_count": null,
   "id": "c475ca42-6196-4800-9756-4c755efc6bab",
   "metadata": {
    "tags": []
   },
   "outputs": [],
   "source": [
    "# dataverse choice list\n",
    "convert = {\n",
    "    \"BEFORE_1\" : \"AFTER_1\",\n",
    "    \"BEFORE_2\" : \"AFTER_2\",\n",
    "    \"BEFORE_3\" : \"AFTER_3\"\n",
    "}\n",
    "df_dataverse_processed[\"YOUR_CHOICE_LIST_COLUMN\"] = df_dataverse_processed[\"YOUR_CHOICE_LIST_COLUMN\"].apply(\n",
    "    lambda x:convert[str(x)]\n",
    ")"
   ]
  },
  {
   "cell_type": "code",
   "execution_count": null,
   "id": "462f102b-605c-47e6-b3b1-4b85702351fb",
   "metadata": {},
   "outputs": [],
   "source": [
    "# shapes \n",
    "print(\"sharepoint:\", df_sharepoint_processed.shape)\n",
    "print(\"dataverse:\", df_dataverse_processed.shape)"
   ]
  },
  {
   "cell_type": "markdown",
   "id": "c59ffb94-9144-4e19-8065-4c026c0a5318",
   "metadata": {},
   "source": [
    "## Data Compairison"
   ]
  },
  {
   "cell_type": "code",
   "execution_count": null,
   "id": "a81f4a84-0d2b-455f-94e5-cf86f095bbff",
   "metadata": {
    "tags": []
   },
   "outputs": [],
   "source": [
    "# fix type errors \n",
    "df_sharepoint_processed[\"YOUR_COLUMN\"] = df_sharepoint_processed[\"YOUR_COLUMN\"].astype(\"str\")\n",
    "df_dataverse_processed[\"YOUR_COLUMN\"] = df_dataverse_processed[\"YOUR_COLUMN\"].astype(\"str\")"
   ]
  },
  {
   "cell_type": "code",
   "execution_count": null,
   "id": "e32c702e-7f90-4fbb-bdd9-b6bc6a208ec4",
   "metadata": {
    "tags": []
   },
   "outputs": [],
   "source": [
    "# outer join\n",
    "outer_join = df_sharepoint_processed.merge(\n",
    "    df_dataverse_processed, \n",
    "    on=column_order,\n",
    "    how='outer', \n",
    "    indicator=True\n",
    ")"
   ]
  },
  {
   "cell_type": "code",
   "execution_count": null,
   "id": "87d10238-85b0-40e8-85fe-095805ee04f7",
   "metadata": {},
   "outputs": [],
   "source": [
    "# anti-join\n",
    "anti_join_sharepoint = outer_join[(outer_join._merge=='left_only')].drop('_merge', axis=1)\n",
    "anti_join_dataverse = outer_join[(outer_join._merge=='right_only')].drop('_merge', axis=1)\n",
    "anti_join_sharepoint[\"SourceTable\"] = \"Sharepoint\"\n",
    "anti_join_dataverse[\"SourceTable\"] = \"Dataverse\"\n",
    "anti_join = pd.concat([anti_join_sharepoint, anti_join_dataverse])"
   ]
  },
  {
   "cell_type": "code",
   "execution_count": null,
   "id": "4252f5d6-871d-4b8c-a73a-6016936e8e4e",
   "metadata": {},
   "outputs": [],
   "source": [
    "# sort results\n",
    "anti_join = anti_join.sort_values(\n",
    "    by=[\"YOUR_COLUMN_1\",\"YOUR_COLUMN_2\",\"YOUR_COLUMN_3\"]\n",
    ").reset_index(drop=True)"
   ]
  },
  {
   "cell_type": "code",
   "execution_count": null,
   "id": "284d6154-ccb0-46e6-9971-6fdef8454cd3",
   "metadata": {},
   "outputs": [],
   "source": [
    "# size of results \n",
    "print(\"sharepoint:\", df_sharepoint_processed.shape[0])\n",
    "print(\"dataverse:\", df_dataverse_processed.shape[0])\n",
    "print(\"sharepoint mismatches:\", anti_join_sharepoint.shape[0])\n",
    "print(\"dataverse mismatches:\", anti_join_dataverse.shape[0])\n",
    "print(\"mismatch sum:\", anti_join.shape[0])"
   ]
  },
  {
   "cell_type": "markdown",
   "id": "d7d118bd-2fc3-4403-b96e-fbe981636cfe",
   "metadata": {},
   "source": [
    "## Exploratory Data Analysis "
   ]
  },
  {
   "cell_type": "code",
   "execution_count": null,
   "id": "12a245d8-d99c-4a9b-8cf8-44538e6a5770",
   "metadata": {},
   "outputs": [],
   "source": [
    "anti_join[0:50]"
   ]
  },
  {
   "cell_type": "code",
   "execution_count": null,
   "id": "43a2621d-550f-4712-a4e4-33eb1d0b31f8",
   "metadata": {},
   "outputs": [],
   "source": [
    "def check_series(s1, s2):\n",
    "    \"\"\"\n",
    "    Function that checks 2 rows and displays the columns/values that are different\n",
    "    \"\"\"\n",
    "    mask = s1 == s2\n",
    "    if sum(~mask.values) <= 1:\n",
    "        print(\"Rows are Equal\")\n",
    "        return None\n",
    "    else:\n",
    "        s1_source = s1.SourceTable \n",
    "        s2_source = s2.SourceTable\n",
    "        s1_mismatch = s1[~mask]\n",
    "        s2_mismatch = s2[~mask]\n",
    "        df = pd.concat([s1_mismatch.drop(\"SourceTable\"), s2_mismatch.drop(\"SourceTable\")], axis=1)\n",
    "        df.columns = [s1_source, s2_source]\n",
    "        print( \"Rows are NOT equal\")\n",
    "        return df"
   ]
  },
  {
   "cell_type": "code",
   "execution_count": null,
   "id": "887cdd84-3010-46d0-af84-55765331cc92",
   "metadata": {},
   "outputs": [],
   "source": [
    "check_series(anti_join.iloc[0], anti_join.iloc[0])"
   ]
  },
  {
   "cell_type": "code",
   "execution_count": null,
   "id": "729f8804-0905-4884-8efe-8faac5b7c532",
   "metadata": {},
   "outputs": [],
   "source": [
    "check_series(anti_join.iloc[0],anti_join.iloc[1])"
   ]
  },
  {
   "cell_type": "code",
   "execution_count": null,
   "id": "10d7b2f5-43ea-4057-82d8-ffdfe3777dde",
   "metadata": {},
   "outputs": [],
   "source": [
    "check_series(anti_join.iloc[2],anti_join.iloc[3])"
   ]
  },
  {
   "cell_type": "code",
   "execution_count": null,
   "id": "6c652272-d5ea-4b8f-bf1b-064ff4a6660a",
   "metadata": {},
   "outputs": [],
   "source": [
    "check_series(anti_join.iloc[0],anti_join.iloc[3])"
   ]
  },
  {
   "cell_type": "code",
   "execution_count": null,
   "id": "7e3020ee-e915-45f9-ac1d-1f00b073c55e",
   "metadata": {},
   "outputs": [],
   "source": []
  }
 ],
 "metadata": {
  "kernelspec": {
   "display_name": "Python 3 (ipykernel)",
   "language": "python",
   "name": "python3"
  },
  "language_info": {
   "codemirror_mode": {
    "name": "ipython",
    "version": 3
   },
   "file_extension": ".py",
   "mimetype": "text/x-python",
   "name": "python",
   "nbconvert_exporter": "python",
   "pygments_lexer": "ipython3",
   "version": "3.11.5"
  }
 },
 "nbformat": 4,
 "nbformat_minor": 5
}
