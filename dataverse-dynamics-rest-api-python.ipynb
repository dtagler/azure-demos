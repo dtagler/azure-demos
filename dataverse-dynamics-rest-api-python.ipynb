{
 "cells": [
  {
   "cell_type": "markdown",
   "id": "2eb961fe-5236-4ef3-b53c-07bea61ecd88",
   "metadata": {},
   "source": [
    "# **Dataverse REST API Demo**"
   ]
  },
  {
   "cell_type": "code",
   "execution_count": null,
   "id": "18fa20bc-0dd0-4e13-a609-327c5059cc26",
   "metadata": {
    "tags": []
   },
   "outputs": [],
   "source": [
    "import requests\n",
    "import json\n",
    "import uuid\n",
    "import pandas as pd"
   ]
  },
  {
   "cell_type": "code",
   "execution_count": null,
   "id": "27e1288e-efdc-4c4d-8a60-541af87f4fd7",
   "metadata": {
    "tags": []
   },
   "outputs": [],
   "source": [
    "# pandas display options \n",
    "pd.set_option('display.max_columns', None)\n",
    "pd.set_option('display.max_rows', 100)"
   ]
  },
  {
   "cell_type": "markdown",
   "id": "60c0009b-ace0-4a66-9b49-9d73bbce2578",
   "metadata": {},
   "source": [
    "## **DATAVERSE**"
   ]
  },
  {
   "cell_type": "code",
   "execution_count": null,
   "id": "0c1402b1-8180-4ffb-83e7-1fa3022b15b1",
   "metadata": {},
   "outputs": [],
   "source": [
    "DATAVERSE_URL = \"https://XXXXXXXXXXXXXXXX.XXXXXX.dynamics.com\""
   ]
  },
  {
   "cell_type": "code",
   "execution_count": null,
   "id": "6ba9b6a3-9254-4de6-9995-6b407c3a995f",
   "metadata": {},
   "outputs": [],
   "source": [
    "# developer tools -> networking -> open a dv table -> look for something like a getclientmetadata call, copy bearer token\n",
    "DATAVERSE_ACCESS_TOKEN = \"eyXXXXXXXXXXXXXXXXXXXXXXXXXXXXXXXXXXXXXXXXXXXXXXXXXXXXXXXXXXXXXXXXXXXXXXXX\""
   ]
  },
  {
   "cell_type": "markdown",
   "id": "a03c7705-c266-4a21-b868-4bfd1f2781c6",
   "metadata": {},
   "source": [
    "### Read Data Table"
   ]
  },
  {
   "cell_type": "code",
   "execution_count": null,
   "id": "adaa7c4b-6801-4c04-a9a7-9d56cd45688c",
   "metadata": {
    "tags": []
   },
   "outputs": [],
   "source": [
    "# dataverse table info\n",
    "dataverse_table_name = \"TABLE_NAME\"\n",
    "dataverse_columns = [\n",
    "    \"COLUMN_1\",\n",
    "    \"COLUMN_2\",\n",
    "    \"COLUMN_3\", \n",
    "]"
   ]
  },
  {
   "cell_type": "code",
   "execution_count": null,
   "id": "f8826698-c43d-492c-aa1f-b110bd82c6e9",
   "metadata": {
    "tags": []
   },
   "outputs": [],
   "source": [
    "# request session headers \n",
    "dataverse_session = requests.Session()\n",
    "dataverse_session.headers.update(\n",
    "    {\n",
    "        \"Authorization\" : f\"Bearer {DATAVERSE_ACCESS_TOKEN}\",\n",
    "        'OData-MaxVersion': '4.0', \n",
    "        'OData-Version': '4.0', \n",
    "        'If-None-Match': 'null', \n",
    "        'Accept': 'application/json',\n",
    "        \"Content-Type\": \"application/json; charset=utf-8\",\n",
    "        \"Prefer\" : \"odata.maxpagesize=5000\",\n",
    "        \"User-Agent\" : f\"python-requests/{requests.__version__}\",\n",
    "        \"Connection\" : \"keep-alive\",\n",
    "    }\n",
    ")"
   ]
  },
  {
   "cell_type": "code",
   "execution_count": null,
   "id": "54ea3fb4-8115-4979-82c1-a4e57f455331",
   "metadata": {
    "tags": []
   },
   "outputs": [],
   "source": [
    "# prep request \n",
    "dataverse_columns_comma_seperated = \",\".join(dataverse_columns)\n",
    "dataverse_select_columns = f\"?$select={dataverse_columns_comma_seperated}\"\n",
    "dataverse_request_uri = f'{DATAVERSE_URL}/api/data/v9.2/{dataverse_table_name}'\n",
    "dataverse_request_uri += dataverse_select_columns\n",
    "print(dataverse_request_uri)"
   ]
  },
  {
   "cell_type": "code",
   "execution_count": null,
   "id": "c9bd2aaf-d5eb-4f75-8c24-8bad377e1902",
   "metadata": {},
   "outputs": [],
   "source": [
    "# request loop\n",
    "try:\n",
    "    dataverse_result = dataverse_session.get(dataverse_request_uri)\n",
    "    dataverse_result_json = json.loads(dataverse_result.content)\n",
    "except:\n",
    "    raise Exception(f\"{dataverse_result}, {dataverse_result.content}\")\n",
    "dataverse_result_json_value = dataverse_result_json[\"value\"]\n",
    "print(\"Items Read: \", len(dataverse_result_json_value), sep=\"\", end=\"\")\n",
    "while \"@odata.nextLink\" in dataverse_result_json:\n",
    "    dataverse_result = dataverse_session.get(dataverse_result_json[\"@odata.nextLink\"])\n",
    "    dataverse_result_json = json.loads(dataverse_result.content)\n",
    "    dataverse_result_json_value += dataverse_result_json[\"value\"]\n",
    "    print(\"...\", len(dataverse_result_json_value), sep=\"\", end=\"\")"
   ]
  },
  {
   "cell_type": "code",
   "execution_count": null,
   "id": "fc470bbf-c9f6-4483-a03d-ef4a5683d76f",
   "metadata": {
    "tags": []
   },
   "outputs": [],
   "source": [
    "# convert to pandas dataframe \n",
    "df_dataverse_raw = pd.DataFrame(dataverse_result_json_value, dtype=\"object\")[dataverse_columns]\n",
    "df_dataverse_raw.info()"
   ]
  },
  {
   "cell_type": "code",
   "execution_count": null,
   "id": "5b1a597b-1604-4bf7-afb7-385ee60aea56",
   "metadata": {},
   "outputs": [],
   "source": [
    "# view\n",
    "df_dataverse_raw"
   ]
  },
  {
   "cell_type": "markdown",
   "id": "280226ad-f696-43f2-ba08-081793b790b2",
   "metadata": {},
   "source": [
    "### Create New Row"
   ]
  },
  {
   "cell_type": "code",
   "execution_count": null,
   "id": "45eee4b8-edcc-4e1f-8bd8-625702afa3f3",
   "metadata": {},
   "outputs": [],
   "source": [
    "# request session headers \n",
    "dataverse_session = requests.Session()\n",
    "dataverse_session.headers.update(\n",
    "    {\n",
    "        \"Authorization\" : f\"Bearer {DATAVERSE_ACCESS_TOKEN}\",\n",
    "        'OData-MaxVersion': '4.0', \n",
    "        'OData-Version': '4.0', \n",
    "        'If-None-Match': 'null', \n",
    "        'Accept': 'application/json',\n",
    "        \"Content-Type\": \"application/json; charset=utf-8\",\n",
    "        \"User-Agent\" : f\"python-requests/{requests.__version__}\",\n",
    "        \"Prefer\" : \"return=representation\",\n",
    "    }\n",
    ")\n",
    "payload = {\n",
    "    \"COLUMN_1\" : \"text\",\n",
    "    \"COLUMN_2\" : \"text\",\n",
    "    \"COLUMN_3\" : 234.23,\n",
    "}"
   ]
  },
  {
   "cell_type": "code",
   "execution_count": null,
   "id": "82797f22-1e5d-4d54-a97e-a8dab9df8d90",
   "metadata": {},
   "outputs": [],
   "source": [
    "# prep request\n",
    "dataverse_table_name = \"TABLE_NAME\"\n",
    "dataverse_request_uri = f'{DATAVERSE_URL}/api/data/v9.2/{dataverse_table_name}'\n",
    "dataverse_request_uri"
   ]
  },
  {
   "cell_type": "code",
   "execution_count": null,
   "id": "c76d0b98-b123-4e0b-ab7f-a3a47deaf76f",
   "metadata": {},
   "outputs": [],
   "source": [
    "# request \n",
    "dataverse_result = dataverse_session.post(\n",
    "    dataverse_request_uri, \n",
    "    data=json.dumps(payload)\n",
    ")\n",
    "dataverse_result"
   ]
  },
  {
   "cell_type": "markdown",
   "id": "95b00352-ea0f-4691-afb8-671b244aba3d",
   "metadata": {},
   "source": [
    "### Update a Row"
   ]
  },
  {
   "cell_type": "code",
   "execution_count": null,
   "id": "9152049d-6776-46d3-8944-c6cfbe3abc72",
   "metadata": {},
   "outputs": [],
   "source": [
    "# request session headers \n",
    "dataverse_session = requests.Session()\n",
    "dataverse_session.headers.update(\n",
    "    {\n",
    "        \"Authorization\" : f\"Bearer {DATAVERSE_ACCESS_TOKEN}\",\n",
    "        'OData-MaxVersion': '4.0', \n",
    "        'OData-Version': '4.0', \n",
    "        'Accept': 'application/json',\n",
    "        \"Content-Type\": \"application/json; charset=utf-8\",\n",
    "        \"User-Agent\" : f\"python-requests/{requests.__version__}\",\n",
    "        \"If-Match\" : \"*\" \n",
    "    }\n",
    ")\n",
    "payload = {\n",
    "    \"COLUMN_1\" : \"text\",\n",
    "}"
   ]
  },
  {
   "cell_type": "code",
   "execution_count": null,
   "id": "1e3f63c3-7c97-4630-a5f3-2d2b92d162c5",
   "metadata": {},
   "outputs": [],
   "source": [
    "# prep request \n",
    "dataverse_table_name = \"TABLE_NAME\"\n",
    "record = \"XXXXXXXX-XXXX-XXXX-XXXX-XXXXXXXXXXXX\"\n",
    "dataverse_request_uri = f'{DATAVERSE_URL}/api/data/v9.2/{dataverse_table_name}({record})'\n",
    "dataverse_request_uri"
   ]
  },
  {
   "cell_type": "code",
   "execution_count": null,
   "id": "6f4f2129-0578-4d44-ac1f-19915280a778",
   "metadata": {},
   "outputs": [],
   "source": [
    "# request \n",
    "dataverse_result = dataverse_session.patch(\n",
    "    dataverse_request_uri, \n",
    "    data=json.dumps(payload)\n",
    ")\n",
    "dataverse_result"
   ]
  },
  {
   "cell_type": "markdown",
   "id": "f2f42305-034a-4969-b673-7059275f21fe",
   "metadata": {},
   "source": [
    "### Delete a Row"
   ]
  },
  {
   "cell_type": "code",
   "execution_count": null,
   "id": "a03ad2ac-6eef-4016-9d77-02e6311cf3c7",
   "metadata": {},
   "outputs": [],
   "source": [
    "# request session headers \n",
    "dataverse_session = requests.Session()\n",
    "dataverse_session.headers.update(\n",
    "    {\n",
    "        \"Authorization\" : f\"Bearer {DATAVERSE_ACCESS_TOKEN}\",\n",
    "        'OData-MaxVersion': '4.0', \n",
    "        'OData-Version': '4.0', \n",
    "        'Accept': 'application/json',\n",
    "        \"Content-Type\": \"application/json; charset=utf-8\",\n",
    "        \"User-Agent\" : f\"python-requests/{requests.__version__}\",\n",
    "    }\n",
    ")"
   ]
  },
  {
   "cell_type": "code",
   "execution_count": null,
   "id": "183a05d0-384a-490f-8fb8-ed1f4eb52c44",
   "metadata": {},
   "outputs": [],
   "source": [
    "# prep request \n",
    "dataverse_table_name = \"TABLE_NAME\"\n",
    "record = \"XXXXXXXX-XXXX-XXXX-XXXX-XXXXXXXXXXXX\"\n",
    "dataverse_request_uri = f'{DATAVERSE_URL}/api/data/v9.2/{dataverse_table_name}({record})'\n",
    "dataverse_request_uri"
   ]
  },
  {
   "cell_type": "code",
   "execution_count": null,
   "id": "2affaea8-2859-450f-a018-e3b9a98f3343",
   "metadata": {},
   "outputs": [],
   "source": [
    "# request \n",
    "dataverse_result = dataverse_session.delete(\n",
    "    dataverse_request_uri, \n",
    "    data=json.dumps(payload)\n",
    ")\n",
    "dataverse_result"
   ]
  },
  {
   "cell_type": "code",
   "execution_count": null,
   "id": "690808c1-f070-43c4-b098-3d702e9b7cef",
   "metadata": {},
   "outputs": [],
   "source": []
  },
  {
   "cell_type": "code",
   "execution_count": null,
   "id": "36c11dd9-ae08-455b-88bc-fcd9ae27c8d7",
   "metadata": {},
   "outputs": [],
   "source": []
  },
  {
   "cell_type": "code",
   "execution_count": null,
   "id": "23577d5f-7e28-47ae-bcc2-b0cc0feefddf",
   "metadata": {},
   "outputs": [],
   "source": []
  }
 ],
 "metadata": {
  "kernelspec": {
   "display_name": "Python 3 (ipykernel)",
   "language": "python",
   "name": "python3"
  },
  "language_info": {
   "codemirror_mode": {
    "name": "ipython",
    "version": 3
   },
   "file_extension": ".py",
   "mimetype": "text/x-python",
   "name": "python",
   "nbconvert_exporter": "python",
   "pygments_lexer": "ipython3",
   "version": "3.11.6"
  }
 },
 "nbformat": 4,
 "nbformat_minor": 5
}
