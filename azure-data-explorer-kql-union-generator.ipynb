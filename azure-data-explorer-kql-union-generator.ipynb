{
 "cells": [
  {
   "attachments": {},
   "cell_type": "markdown",
   "metadata": {},
   "source": [
    "# ADX: KQL Union Query Generation "
   ]
  },
  {
   "cell_type": "code",
   "execution_count": null,
   "metadata": {},
   "outputs": [],
   "source": [
    "import pandas as pd"
   ]
  },
  {
   "cell_type": "code",
   "execution_count": null,
   "metadata": {},
   "outputs": [],
   "source": [
    "# test data\n",
    "df = pd.DataFrame(\n",
    "    {\n",
    "        'Cluster':      [\"cluster_a\",   \"cluster_a\",     \"cluster_a\",      \"cluster_a\"], \n",
    "        'Table':        [\"table_a\",     \"table_b\",       \"table_c\",        \"table_d\"], \n",
    "        'Timestamp':    [\"timestamp\",   \"created_time\",  \"timestamp_col\",  \"start_time\"],\n",
    "        'Username':     [\"user\",        \"username\",      pd.NA,            \"user\"],\n",
    "        'Hostname':     [pd.NA,         pd.NA,           \"hostname\",       \"host\"],\n",
    "        'Application':  [pd.NA,         pd.NA,           \"app\",            \"app_name\"],\n",
    "        'IP':           [pd.NA,         \"client_ip\",     \"clientip\",       \"ip\"]\n",
    "    }\n",
    ")\n",
    "group_columns = df.columns.tolist()\n",
    "group_columns.remove('Cluster')\n",
    "group_columns.remove('Table')\n",
    "group_columns.remove('Timestamp')"
   ]
  },
  {
   "cell_type": "code",
   "execution_count": null,
   "metadata": {},
   "outputs": [],
   "source": [
    "# genereate KQL query string \n",
    "query_string = \"union (\\n\"\n",
    "for each_row in df.itertuples():\n",
    "    query_string += f\"\\t{each_row.Table}\\n\"\n",
    "    # group columns by timestamp\n",
    "    query_string += f\"\\t| summarize \"\n",
    "    for each_column in group_columns:\n",
    "        each_value = each_row._asdict()[each_column]\n",
    "        if each_value is not pd.NA:\n",
    "            query_string += f\"make_set({each_value}), \"\n",
    "    query_string = query_string[:-2]\n",
    "    query_string += f\" by bin({each_row.Timestamp}, 1hr)\\n\"\n",
    "    # table source column\n",
    "    query_string += f'\\t| extend Table=\"{each_row.Table}\"\\n'\n",
    "    # rename columns to consistent names \n",
    "    query_string += f\"\\t| project-rename Timestamp={each_row.Timestamp}, \"\n",
    "    for each_column in group_columns:        \n",
    "        each_value = each_row._asdict()[each_column]\n",
    "        if each_value is not pd.NA:\n",
    "            query_string += f\"{each_column}=set_{each_value}, \"\n",
    "    query_string = query_string[:-2]\n",
    "    query_string += \"\\n), (\\n\"\n",
    "query_string = query_string[:-4] +\"\\n\"\n",
    "query_string += f\"| where isnotempty(Timestamp)\\n\"\n",
    "query_string += \"| project-reorder Timestamp, Table\\n\"\n",
    "query_string += f\"| sort by Timestamp\\n\""
   ]
  },
  {
   "cell_type": "code",
   "execution_count": null,
   "metadata": {},
   "outputs": [],
   "source": [
    "print(query_string)"
   ]
  },
  {
   "cell_type": "code",
   "execution_count": null,
   "metadata": {},
   "outputs": [],
   "source": []
  }
 ],
 "metadata": {
  "kernelspec": {
   "display_name": "py311",
   "language": "python",
   "name": "python3"
  },
  "language_info": {
   "codemirror_mode": {
    "name": "ipython",
    "version": 3
   },
   "file_extension": ".py",
   "mimetype": "text/x-python",
   "name": "python",
   "nbconvert_exporter": "python",
   "pygments_lexer": "ipython3",
   "version": "3.11.3"
  },
  "orig_nbformat": 4
 },
 "nbformat": 4,
 "nbformat_minor": 2
}
